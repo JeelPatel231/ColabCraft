{
  "nbformat": 4,
  "nbformat_minor": 0,
  "metadata": {
    "colab": {
      "name": "Minecraft.ipynb",
      "provenance": [],
      "collapsed_sections": [],
      "authorship_tag": "ABX9TyOThJn6t99epr6l0/ySEIhy"
    },
    "kernelspec": {
      "name": "python3",
      "display_name": "Python 3"
    }
  },
  "cells": [
    {
      "cell_type": "markdown",
      "metadata": {
        "id": "LXTw-WMHcPAo",
        "colab_type": "text"
      },
      "source": [
        "Port forward the java minecraft port"
      ]
    },
    {
      "cell_type": "code",
      "metadata": {
        "id": "TrEs97h7cP9I",
        "colab_type": "code",
        "colab": {
          "base_uri": "https://localhost:8080/",
          "height": 52
        },
        "outputId": "b93c7e4a-c041-4a45-f6f3-2ce718be0132"
      },
      "source": [
        "! wget -q -c -nc https://bin.equinox.io/c/4VmDzA7iaHb/ngrok-stable-linux-amd64.zip\n",
        "! unzip -qq -n ngrok-stable-linux-amd64.zip\n",
        "!sudo apt install openjdk-8-jdk\n",
        "#setup Ngrok - authtoken\n",
        "\n",
        "#Ask token\n",
        "print(\"Get your authtoken from https://dashboard.ngrok.com/auth\")\n",
        "import getpass\n",
        "authtoken = getpass.getpass()\n",
        "\n",
        "#Create tunnel\n",
        "get_ipython().system_raw('./ngrok authtoken $authtoken && ./ngrok tcp 19132 && ./ngrok udp 25565 &')\n",
        "\n",
        "print(\"Now go to https://dashboard.ngrok.com/status/tunnels to see your ip\")"
      ],
      "execution_count": null,
      "outputs": [
        {
          "output_type": "stream",
          "text": [
            "Get your authtoken from https://dashboard.ngrok.com/auth\n",
            "··········\n"
          ],
          "name": "stdout"
        }
      ]
    },
    {
      "cell_type": "markdown",
      "metadata": {
        "id": "pnNz4nH8ckM4",
        "colab_type": "text"
      },
      "source": [
        "Mounting the Google Drive for file/world saving"
      ]
    },
    {
      "cell_type": "code",
      "metadata": {
        "id": "EHc5JLgEcsMH",
        "colab_type": "code",
        "colab": {
          "base_uri": "https://localhost:8080/",
          "height": 126
        },
        "outputId": "fb5735a8-117d-42c7-9aa3-c9bf7f4773ac"
      },
      "source": [
        "from google.colab import drive\n",
        "drive.mount('/content/drive')"
      ],
      "execution_count": null,
      "outputs": [
        {
          "output_type": "stream",
          "text": [
            "Go to this URL in a browser: https://accounts.google.com/o/oauth2/auth?client_id=947318989803-6bn6qk8qdgf4n4g3pfee6491hc0brc4i.apps.googleusercontent.com&redirect_uri=urn%3aietf%3awg%3aoauth%3a2.0%3aoob&scope=email%20https%3a%2f%2fwww.googleapis.com%2fauth%2fdocs.test%20https%3a%2f%2fwww.googleapis.com%2fauth%2fdrive%20https%3a%2f%2fwww.googleapis.com%2fauth%2fdrive.photos.readonly%20https%3a%2f%2fwww.googleapis.com%2fauth%2fpeopleapi.readonly&response_type=code\n",
            "\n",
            "Enter your authorization code:\n",
            "··········\n",
            "Mounted at /content/drive\n"
          ],
          "name": "stdout"
        }
      ]
    },
    {
      "cell_type": "markdown",
      "metadata": {
        "id": "J1bOt5xGcaAQ",
        "colab_type": "text"
      },
      "source": [
        "Getting the minecraft JAVA server from mojang (only to be used for the first/one time)"
      ]
    },
    {
      "cell_type": "code",
      "metadata": {
        "id": "8MZP16EDcfag",
        "colab_type": "code",
        "colab": {
          "base_uri": "https://localhost:8080/",
          "height": 212
        },
        "outputId": "96e7343a-5193-4338-e7cc-c4423cc13e61"
      },
      "source": [
        "!cd \"/content/drive/My Drive/Minecraft\" && sudo wget \"https://cdn.getbukkit.org/spigot/spigot-1.16.2.jar\""
      ],
      "execution_count": null,
      "outputs": [
        {
          "output_type": "stream",
          "text": [
            "--2020-08-25 21:16:28--  https://cdn.getbukkit.org/spigot/spigot-1.16.2.jar\n",
            "Resolving cdn.getbukkit.org (cdn.getbukkit.org)... 149.28.57.95\n",
            "Connecting to cdn.getbukkit.org (cdn.getbukkit.org)|149.28.57.95|:443... connected.\n",
            "HTTP request sent, awaiting response... 200 OK\n",
            "Length: 35716087 (34M) [application/java-archive]\n",
            "Saving to: ‘spigot-1.16.2.jar’\n",
            "\n",
            "spigot-1.16.2.jar   100%[===================>]  34.06M  17.0MB/s    in 2.0s    \n",
            "\n",
            "2020-08-25 21:16:30 (17.0 MB/s) - ‘spigot-1.16.2.jar’ saved [35716087/35716087]\n",
            "\n"
          ],
          "name": "stdout"
        }
      ]
    },
    {
      "cell_type": "code",
      "metadata": {
        "id": "-o5x6FqZeHtq",
        "colab_type": "code",
        "colab": {
          "base_uri": "https://localhost:8080/",
          "height": 1000
        },
        "outputId": "f77d123a-9ff6-4f79-87d2-382093c5edbf"
      },
      "source": [
        "!cd \"/content/drive/My Drive/Minecraft\" && sudo java -Xmx8G -Xms8G -jar spigot-1.16.2.jar"
      ],
      "execution_count": null,
      "outputs": [
        {
          "output_type": "stream",
          "text": [
            "*** Error, this build is outdated ***\n",
            "*** Please download a new build as per instructions from https://www.spigotmc.org/go/outdated-spigot ***\n",
            "*** Server will start in 20 seconds ***\n",
            "Loading libraries, please wait...\n",
            "[21:30:35] [main/INFO]: Environment: authHost='https://authserver.mojang.com', accountsHost='https://api.mojang.com', sessionHost='https://sessionserver.mojang.com', name='PROD'\n",
            "[21:30:36] [main/INFO]: Reloading ResourceManager: Default, bukkit\n",
            "[21:30:38] [Worker-Main-2/INFO]: Loaded 7 recipes\n",
            "[21:30:35] [main/INFO]: Environment: authHost='https://authserver.mojang.com', accountsHost='https://api.mojang.com', sessionHost='https://sessionserver.mojang.com', name='PROD'\n",
            "[21:30:36] [main/INFO]: Reloading ResourceManager: Default, bukkit\n",
            "[21:30:38] [Worker-Main-2/INFO]: Loaded 7 recipes\n",
            "[21:30:42] [Server thread/INFO]: Starting minecraft server version 1.16.2\n",
            "[21:30:42] [Server thread/INFO]: Loading properties\n",
            "[21:30:43] [Server thread/INFO]: This server is running CraftBukkit version git-Spigot-379750e-43c7ff9 (MC: 1.16.2) (Implementing API version 1.16.2-R0.1-SNAPSHOT)\n",
            "[21:30:43] [Server thread/INFO]: Server Ping Player Sample Count: 12\n",
            "[21:30:43] [Server thread/INFO]: Using 4 threads for Netty based IO\n",
            "[21:30:43] [Server thread/INFO]: Debug logging is disabled\n",
            "[21:30:44] [Server thread/INFO]: Default game type: SURVIVAL\n",
            "[21:30:44] [Server thread/INFO]: Generating keypair\n",
            "[21:30:44] [Server thread/INFO]: Starting Minecraft server on *:25565\n",
            "[21:30:44] [Server thread/INFO]: Using epoll channel type\n",
            "[21:30:45] [Server thread/WARN]: **** SERVER IS RUNNING IN OFFLINE/INSECURE MODE!\n",
            "[21:30:45] [Server thread/WARN]: The server will make no attempt to authenticate usernames. Beware.\n",
            "[21:30:45] [Server thread/WARN]: While this makes the game possible to play without internet access, it also opens up the ability for hackers to connect with any username they choose.\n",
            "[21:30:45] [Server thread/WARN]: To change this, set \"online-mode\" to \"true\" in the server.properties file.\n",
            "[21:30:45] [Server thread/INFO]: Preparing level \"world\"\n",
            "[21:30:45] [Server thread/INFO]: -------- World Settings For [world] --------\n",
            "[21:30:45] [Server thread/INFO]: Experience Merge Radius: 3.0\n",
            "[21:30:45] [Server thread/INFO]: Mob Spawn Range: 6\n",
            "[21:30:45] [Server thread/INFO]: Cactus Growth Modifier: 100%\n",
            "[21:30:45] [Server thread/INFO]: Cane Growth Modifier: 100%\n",
            "[21:30:45] [Server thread/INFO]: Melon Growth Modifier: 100%\n",
            "[21:30:45] [Server thread/INFO]: Mushroom Growth Modifier: 100%\n",
            "[21:30:45] [Server thread/INFO]: Pumpkin Growth Modifier: 100%\n",
            "[21:30:45] [Server thread/INFO]: Sapling Growth Modifier: 100%\n",
            "[21:30:45] [Server thread/INFO]: Beetroot Growth Modifier: 100%\n",
            "[21:30:45] [Server thread/INFO]: Carrot Growth Modifier: 100%\n",
            "[21:30:45] [Server thread/INFO]: Potato Growth Modifier: 100%\n",
            "[21:30:45] [Server thread/INFO]: Wheat Growth Modifier: 100%\n",
            "[21:30:45] [Server thread/INFO]: NetherWart Growth Modifier: 100%\n",
            "[21:30:45] [Server thread/INFO]: Vine Growth Modifier: 100%\n",
            "[21:30:45] [Server thread/INFO]: Cocoa Growth Modifier: 100%\n",
            "[21:30:45] [Server thread/INFO]: Bamboo Growth Modifier: 100%\n",
            "[21:30:45] [Server thread/INFO]: SweetBerry Growth Modifier: 100%\n",
            "[21:30:45] [Server thread/INFO]: Kelp Growth Modifier: 100%\n",
            "[21:30:45] [Server thread/INFO]: Entity Activation Range: An 32 / Mo 32 / Ra 48 / Mi 16 / Tiv true\n",
            "[21:30:45] [Server thread/INFO]: Hopper Transfer: 8 Hopper Check: 1 Hopper Amount: 1\n",
            "[21:30:45] [Server thread/INFO]: Custom Map Seeds:  Village: 10387312 Desert: 14357617 Igloo: 14357618 Jungle: 14357619 Swamp: 14357620 Monument: 10387313 Ocean: 14357621 Shipwreck: 165745295 End City: 10387313 Slime: 987234911 Bastion: 30084232 Fortress: 30084232 Mansion: 10387319 Fossil: 14357921 Portal: 34222645\n",
            "[21:30:45] [Server thread/INFO]: Max TNT Explosions: 100\n",
            "[21:30:45] [Server thread/INFO]: Tile Max Tick Time: 50ms Entity max Tick Time: 50ms\n",
            "[21:30:45] [Server thread/INFO]: Entity Tracking Range: Pl 48 / An 48 / Mo 48 / Mi 32 / Other 64\n",
            "[21:30:45] [Server thread/INFO]: Allow Zombie Pigmen to spawn from portal blocks: true\n",
            "[21:30:45] [Server thread/INFO]: View Distance: 20\n",
            "[21:30:45] [Server thread/INFO]: Item Despawn Rate: 6000\n",
            "[21:30:45] [Server thread/INFO]: Item Merge Radius: 2.5\n",
            "[21:30:45] [Server thread/INFO]: Arrow Despawn Rate: 1200 Trident Respawn Rate:1200\n",
            "[21:30:45] [Server thread/INFO]: Nerfing mobs spawned from spawners: false\n",
            "[21:30:45] [Server thread/INFO]: Zombie Aggressive Towards Villager: true\n",
            "[21:30:45] [Server thread/INFO]: -------- World Settings For [world_nether] --------\n",
            "[21:30:45] [Server thread/INFO]: Experience Merge Radius: 3.0\n",
            "[21:30:45] [Server thread/INFO]: Mob Spawn Range: 6\n",
            "[21:30:45] [Server thread/INFO]: Cactus Growth Modifier: 100%\n",
            "[21:30:45] [Server thread/INFO]: Cane Growth Modifier: 100%\n",
            "[21:30:45] [Server thread/INFO]: Melon Growth Modifier: 100%\n",
            "[21:30:45] [Server thread/INFO]: Mushroom Growth Modifier: 100%\n",
            "[21:30:45] [Server thread/INFO]: Pumpkin Growth Modifier: 100%\n",
            "[21:30:45] [Server thread/INFO]: Sapling Growth Modifier: 100%\n",
            "[21:30:45] [Server thread/INFO]: Beetroot Growth Modifier: 100%\n",
            "[21:30:45] [Server thread/INFO]: Carrot Growth Modifier: 100%\n",
            "[21:30:45] [Server thread/INFO]: Potato Growth Modifier: 100%\n",
            "[21:30:45] [Server thread/INFO]: Wheat Growth Modifier: 100%\n",
            "[21:30:45] [Server thread/INFO]: NetherWart Growth Modifier: 100%\n",
            "[21:30:45] [Server thread/INFO]: Vine Growth Modifier: 100%\n",
            "[21:30:45] [Server thread/INFO]: Cocoa Growth Modifier: 100%\n",
            "[21:30:45] [Server thread/INFO]: Bamboo Growth Modifier: 100%\n",
            "[21:30:45] [Server thread/INFO]: SweetBerry Growth Modifier: 100%\n",
            "[21:30:45] [Server thread/INFO]: Kelp Growth Modifier: 100%\n",
            "[21:30:45] [Server thread/INFO]: Entity Activation Range: An 32 / Mo 32 / Ra 48 / Mi 16 / Tiv true\n",
            "[21:30:45] [Server thread/INFO]: Hopper Transfer: 8 Hopper Check: 1 Hopper Amount: 1\n",
            "[21:30:45] [Server thread/INFO]: Custom Map Seeds:  Village: 10387312 Desert: 14357617 Igloo: 14357618 Jungle: 14357619 Swamp: 14357620 Monument: 10387313 Ocean: 14357621 Shipwreck: 165745295 End City: 10387313 Slime: 987234911 Bastion: 30084232 Fortress: 30084232 Mansion: 10387319 Fossil: 14357921 Portal: 34222645\n",
            "[21:30:45] [Server thread/INFO]: Max TNT Explosions: 100\n",
            "[21:30:45] [Server thread/INFO]: Tile Max Tick Time: 50ms Entity max Tick Time: 50ms\n",
            "[21:30:45] [Server thread/INFO]: Entity Tracking Range: Pl 48 / An 48 / Mo 48 / Mi 32 / Other 64\n",
            "[21:30:45] [Server thread/INFO]: Allow Zombie Pigmen to spawn from portal blocks: true\n",
            "[21:30:45] [Server thread/INFO]: View Distance: 20\n",
            "[21:30:45] [Server thread/INFO]: Item Despawn Rate: 6000\n",
            "[21:30:45] [Server thread/INFO]: Item Merge Radius: 2.5\n",
            "[21:30:45] [Server thread/INFO]: Arrow Despawn Rate: 1200 Trident Respawn Rate:1200\n",
            "[21:30:45] [Server thread/INFO]: Nerfing mobs spawned from spawners: false\n",
            "[21:30:45] [Server thread/INFO]: Zombie Aggressive Towards Villager: true\n",
            "[21:30:45] [Server thread/INFO]: -------- World Settings For [world_the_end] --------\n",
            "[21:30:45] [Server thread/INFO]: Experience Merge Radius: 3.0\n",
            "[21:30:45] [Server thread/INFO]: Mob Spawn Range: 6\n",
            "[21:30:45] [Server thread/INFO]: Cactus Growth Modifier: 100%\n",
            "[21:30:45] [Server thread/INFO]: Cane Growth Modifier: 100%\n",
            "[21:30:45] [Server thread/INFO]: Melon Growth Modifier: 100%\n",
            "[21:30:45] [Server thread/INFO]: Mushroom Growth Modifier: 100%\n",
            "[21:30:45] [Server thread/INFO]: Pumpkin Growth Modifier: 100%\n",
            "[21:30:45] [Server thread/INFO]: Sapling Growth Modifier: 100%\n",
            "[21:30:45] [Server thread/INFO]: Beetroot Growth Modifier: 100%\n",
            "[21:30:45] [Server thread/INFO]: Carrot Growth Modifier: 100%\n",
            "[21:30:45] [Server thread/INFO]: Potato Growth Modifier: 100%\n",
            "[21:30:45] [Server thread/INFO]: Wheat Growth Modifier: 100%\n",
            "[21:30:45] [Server thread/INFO]: NetherWart Growth Modifier: 100%\n",
            "[21:30:45] [Server thread/INFO]: Vine Growth Modifier: 100%\n",
            "[21:30:45] [Server thread/INFO]: Cocoa Growth Modifier: 100%\n",
            "[21:30:45] [Server thread/INFO]: Bamboo Growth Modifier: 100%\n",
            "[21:30:45] [Server thread/INFO]: SweetBerry Growth Modifier: 100%\n",
            "[21:30:45] [Server thread/INFO]: Kelp Growth Modifier: 100%\n",
            "[21:30:45] [Server thread/INFO]: Entity Activation Range: An 32 / Mo 32 / Ra 48 / Mi 16 / Tiv true\n",
            "[21:30:45] [Server thread/INFO]: Hopper Transfer: 8 Hopper Check: 1 Hopper Amount: 1\n",
            "[21:30:45] [Server thread/INFO]: Custom Map Seeds:  Village: 10387312 Desert: 14357617 Igloo: 14357618 Jungle: 14357619 Swamp: 14357620 Monument: 10387313 Ocean: 14357621 Shipwreck: 165745295 End City: 10387313 Slime: 987234911 Bastion: 30084232 Fortress: 30084232 Mansion: 10387319 Fossil: 14357921 Portal: 34222645\n",
            "[21:30:45] [Server thread/INFO]: Max TNT Explosions: 100\n",
            "[21:30:45] [Server thread/INFO]: Tile Max Tick Time: 50ms Entity max Tick Time: 50ms\n",
            "[21:30:45] [Server thread/INFO]: Entity Tracking Range: Pl 48 / An 48 / Mo 48 / Mi 32 / Other 64\n",
            "[21:30:45] [Server thread/INFO]: Allow Zombie Pigmen to spawn from portal blocks: true\n",
            "[21:30:45] [Server thread/INFO]: View Distance: 20\n",
            "[21:30:45] [Server thread/INFO]: Item Despawn Rate: 6000\n",
            "[21:30:45] [Server thread/INFO]: Item Merge Radius: 2.5\n",
            "[21:30:45] [Server thread/INFO]: Arrow Despawn Rate: 1200 Trident Respawn Rate:1200\n",
            "[21:30:45] [Server thread/INFO]: Nerfing mobs spawned from spawners: false\n",
            "[21:30:45] [Server thread/INFO]: Zombie Aggressive Towards Villager: true\n",
            "[21:30:45] [Server thread/INFO]: Preparing start region for dimension minecraft:overworld\n",
            "[21:30:54] [Server thread/INFO]: Preparing spawn area: 0%\n",
            "[21:30:54] [Server thread/INFO]: Preparing spawn area: 0%\n",
            "[21:30:54] [Server thread/INFO]: Preparing spawn area: 0%\n",
            "[21:30:54] [Server thread/INFO]: Preparing spawn area: 0%\n",
            "[21:30:54] [Server thread/INFO]: Preparing spawn area: 0%\n",
            "[21:30:54] [Server thread/INFO]: Preparing spawn area: 0%\n",
            "[21:30:54] [Server thread/INFO]: Preparing spawn area: 0%\n",
            "[21:30:54] [Server thread/INFO]: Preparing spawn area: 0%\n",
            "[21:30:54] [Server thread/INFO]: Preparing spawn area: 0%\n",
            "[21:30:54] [Server thread/INFO]: Preparing spawn area: 0%\n",
            "[21:30:54] [Server thread/INFO]: Preparing spawn area: 0%\n",
            "[21:30:54] [Server thread/INFO]: Preparing spawn area: 0%\n",
            "[21:30:54] [Server thread/INFO]: Preparing spawn area: 0%\n",
            "[21:30:54] [Server thread/INFO]: Preparing spawn area: 0%\n",
            "[21:30:54] [Server thread/INFO]: Preparing spawn area: 0%\n",
            "[21:30:54] [Server thread/INFO]: Preparing spawn area: 0%\n",
            "[21:30:54] [Server thread/INFO]: Preparing spawn area: 0%\n",
            "[21:30:54] [Server thread/INFO]: Preparing spawn area: 0%\n",
            "[21:30:54] [Server thread/INFO]: Preparing spawn area: 1%\n",
            "[21:30:59] [Worker-Main-2/INFO]: Preparing spawn area: 1%\n",
            "[21:30:59] [Worker-Main-2/INFO]: Preparing spawn area: 1%\n",
            "[21:30:59] [Worker-Main-2/INFO]: Preparing spawn area: 1%\n",
            "[21:30:59] [Worker-Main-2/INFO]: Preparing spawn area: 1%\n",
            "[21:30:59] [Worker-Main-2/INFO]: Preparing spawn area: 1%\n",
            "[21:30:59] [Worker-Main-2/INFO]: Preparing spawn area: 1%\n",
            "[21:30:59] [Worker-Main-2/INFO]: Preparing spawn area: 1%\n",
            "[21:30:59] [Worker-Main-2/INFO]: Preparing spawn area: 1%\n",
            "[21:30:59] [Worker-Main-2/INFO]: Preparing spawn area: 1%\n",
            "[21:30:59] [Worker-Main-2/INFO]: Preparing spawn area: 1%\n",
            "[21:31:00] [Worker-Main-2/INFO]: Preparing spawn area: 4%\n",
            "[21:31:00] [Worker-Main-2/INFO]: Preparing spawn area: 83%\n",
            "[21:31:01] [Worker-Main-2/INFO]: Preparing spawn area: 83%\n",
            "[21:31:01] [Worker-Main-2/INFO]: Preparing spawn area: 83%\n",
            "[21:31:02] [Worker-Main-2/INFO]: Preparing spawn area: 83%\n",
            "[21:31:02] [Worker-Main-2/INFO]: Preparing spawn area: 83%\n",
            "[21:31:03] [Worker-Main-2/INFO]: Preparing spawn area: 83%\n",
            "[21:31:03] [Worker-Main-2/INFO]: Preparing spawn area: 83%\n",
            "[21:31:04] [Worker-Main-2/INFO]: Preparing spawn area: 83%\n",
            "[21:31:04] [Worker-Main-2/INFO]: Preparing spawn area: 83%\n",
            "[21:31:05] [Worker-Main-2/INFO]: Preparing spawn area: 83%\n",
            "[21:31:05] [Worker-Main-2/INFO]: Preparing spawn area: 83%\n",
            "[21:31:06] [Server thread/INFO]: Preparing spawn area: 83%\n",
            "[21:31:06] [Worker-Main-2/INFO]: Preparing spawn area: 83%\n",
            "[21:31:07] [Worker-Main-2/INFO]: Preparing spawn area: 84%\n",
            "[21:31:07] [Worker-Main-2/INFO]: Preparing spawn area: 85%\n",
            "[21:31:08] [Worker-Main-2/INFO]: Preparing spawn area: 85%\n",
            "[21:31:08] [Server thread/INFO]: Preparing spawn area: 86%\n",
            "[21:31:09] [Worker-Main-2/INFO]: Preparing spawn area: 88%\n",
            "[21:31:09] [Worker-Main-2/INFO]: Preparing spawn area: 89%\n",
            "[21:31:10] [Server thread/INFO]: Preparing spawn area: 90%\n",
            "[21:31:10] [Worker-Main-2/INFO]: Preparing spawn area: 92%\n",
            "[21:31:11] [Server thread/INFO]: Preparing spawn area: 93%\n",
            "[21:31:11] [Worker-Main-2/INFO]: Preparing spawn area: 95%\n",
            "[21:31:12] [Worker-Main-2/INFO]: Preparing spawn area: 96%\n",
            "[21:31:12] [Worker-Main-2/INFO]: Preparing spawn area: 98%\n",
            "[21:31:13] [Server thread/INFO]: Time elapsed: 27400 ms\n",
            "[21:31:13] [Server thread/INFO]: Preparing start region for dimension minecraft:the_nether\n",
            "[21:31:19] [Server thread/INFO]: Preparing spawn area: 0%\n",
            "[21:31:19] [Server thread/INFO]: Preparing spawn area: 0%\n",
            "[21:31:19] [Server thread/INFO]: Preparing spawn area: 0%\n",
            "[21:31:19] [Server thread/INFO]: Preparing spawn area: 0%\n",
            "[21:31:19] [Server thread/INFO]: Preparing spawn area: 0%\n",
            "[21:31:19] [Server thread/INFO]: Preparing spawn area: 0%\n",
            "[21:31:19] [Server thread/INFO]: Preparing spawn area: 0%\n",
            "[21:31:19] [Server thread/INFO]: Preparing spawn area: 0%\n",
            "[21:31:19] [Server thread/INFO]: Preparing spawn area: 0%\n",
            "[21:31:19] [Server thread/INFO]: Preparing spawn area: 0%\n",
            "[21:31:19] [Server thread/INFO]: Preparing spawn area: 0%\n",
            "[21:31:19] [Server thread/INFO]: Preparing spawn area: 0%\n",
            "[21:31:19] [Server thread/INFO]: Preparing spawn area: 0%\n",
            "[21:31:19] [Server thread/INFO]: Preparing spawn area: 0%\n",
            "[21:31:20] [Worker-Main-2/INFO]: Preparing spawn area: 58%\n",
            "[21:31:20] [Worker-Main-2/INFO]: Preparing spawn area: 83%\n",
            "[21:31:21] [Worker-Main-2/INFO]: Preparing spawn area: 83%\n",
            "[21:31:21] [Worker-Main-2/INFO]: Preparing spawn area: 83%\n",
            "[21:31:22] [Worker-Main-2/INFO]: Preparing spawn area: 83%\n",
            "[21:31:22] [Worker-Main-2/INFO]: Preparing spawn area: 83%\n",
            "[21:31:23] [Worker-Main-2/INFO]: Preparing spawn area: 83%\n",
            "[21:31:23] [Worker-Main-2/INFO]: Preparing spawn area: 83%\n",
            "[21:31:24] [Worker-Main-2/INFO]: Preparing spawn area: 83%\n",
            "[21:31:24] [Worker-Main-2/INFO]: Preparing spawn area: 83%\n",
            "[21:31:25] [Worker-Main-2/INFO]: Preparing spawn area: 83%\n",
            "[21:31:25] [Worker-Main-2/INFO]: Preparing spawn area: 83%\n",
            "[21:31:26] [Worker-Main-2/INFO]: Preparing spawn area: 83%\n",
            "[21:31:26] [Worker-Main-2/INFO]: Preparing spawn area: 83%\n",
            "[21:31:27] [Worker-Main-2/INFO]: Preparing spawn area: 83%\n",
            "[21:31:27] [Worker-Main-2/INFO]: Preparing spawn area: 85%\n",
            "[21:31:28] [Worker-Main-2/INFO]: Preparing spawn area: 89%\n",
            "[21:31:28] [Worker-Main-2/INFO]: Preparing spawn area: 89%\n",
            "[21:31:29] [Worker-Main-2/INFO]: Preparing spawn area: 90%\n",
            "[21:31:29] [Worker-Main-2/INFO]: Preparing spawn area: 93%\n",
            "[21:31:30] [Worker-Main-2/INFO]: Preparing spawn area: 96%\n",
            "[21:31:30] [Worker-Main-2/INFO]: Preparing spawn area: 98%\n",
            "[21:31:30] [Server thread/INFO]: Time elapsed: 17773 ms\n",
            "[21:31:30] [Server thread/INFO]: Preparing start region for dimension minecraft:the_end\n",
            "[21:31:33] [Server thread/INFO]: Preparing spawn area: 0%\n",
            "[21:31:33] [Server thread/INFO]: Preparing spawn area: 0%\n",
            "[21:31:33] [Server thread/INFO]: Preparing spawn area: 0%\n",
            "[21:31:33] [Server thread/INFO]: Preparing spawn area: 0%\n",
            "[21:31:33] [Server thread/INFO]: Preparing spawn area: 0%\n",
            "[21:31:33] [Worker-Main-2/INFO]: Preparing spawn area: 45%\n",
            "[21:31:33] [Worker-Main-2/INFO]: Preparing spawn area: 83%\n",
            "[21:31:34] [Worker-Main-2/INFO]: Preparing spawn area: 88%\n",
            "[21:31:34] [Server thread/INFO]: Time elapsed: 4005 ms\n",
            "[21:31:35] [Server thread/INFO]: Server permissions file permissions.yml is empty, ignoring it\n",
            "[21:31:35] [Server thread/INFO]: Done (49.898s)! For help, type \"help\"\n",
            "[21:32:06] [User Authenticator #1/INFO]: UUID of player JeelPatel is b51efb9a-4ce8-3a37-afe4-5167a3b01c18\n",
            "[21:32:06] [Server thread/INFO]: JeelPatel[/127.0.0.1:39554] logged in with entity id 94 at ([world]256.5, 71.0, -33.5)\n",
            "[21:33:39] [Server thread/INFO]: JeelPatel lost connection: Disconnected\n",
            "[21:33:39] [Server thread/INFO]: JeelPatel left the game\n",
            ">stop\n",
            "stop\n",
            "[21:35:45] [Server thread/INFO]: Stopping the server\n",
            "[21:35:45] [Server thread/INFO]: Stopping server\n",
            "[21:35:45] [Server thread/INFO]: Saving players\n",
            "[21:35:45] [Server thread/INFO]: Saving worlds\n",
            "[21:35:45] [Server thread/INFO]: Saving chunks for level 'ServerLevel[world]'/minecraft:overworld\n",
            "[21:35:49] [Server thread/INFO]: ThreadedAnvilChunkStorage (world): All chunks are saved\n",
            "[21:35:49] [Server thread/INFO]: Saving chunks for level 'ServerLevel[world_nether]'/minecraft:the_nether\n",
            "[21:35:50] [Server thread/INFO]: ThreadedAnvilChunkStorage (DIM-1): All chunks are saved\n",
            "[21:35:50] [Server thread/INFO]: Saving chunks for level 'ServerLevel[world_the_end]'/minecraft:the_end\n",
            "[21:35:51] [Server thread/INFO]: ThreadedAnvilChunkStorage (DIM1): All chunks are saved\n",
            "[21:35:51] [Server thread/INFO]: ThreadedAnvilChunkStorage (world): All chunks are saved\n",
            "[21:35:51] [Server thread/INFO]: ThreadedAnvilChunkStorage (DIM-1): All chunks are saved\n",
            "[21:35:51] [Server thread/INFO]: ThreadedAnvilChunkStorage (DIM1): All chunks are saved\n",
            ">"
          ],
          "name": "stdout"
        }
      ]
    },
    {
      "cell_type": "markdown",
      "metadata": {
        "id": "vrDAnt3YjKlI",
        "colab_type": "text"
      },
      "source": [
        "if you get the eula error, just run the below cell and retry the above cell!!"
      ]
    },
    {
      "cell_type": "code",
      "metadata": {
        "id": "U_Diva3IemRx",
        "colab_type": "code",
        "colab": {}
      },
      "source": [
        "!cd \"/content/drive/My Drive/Minecraft\" && sed -i \"s/eula=false/eula=true/g\" eula.txt && sed -i \"s/online-mode=true/online-mode=false/g\" server.properties"
      ],
      "execution_count": null,
      "outputs": []
    }
  ]
}